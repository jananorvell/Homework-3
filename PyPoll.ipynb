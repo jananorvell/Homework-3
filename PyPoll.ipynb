{
 "cells": [
  {
   "cell_type": "code",
   "execution_count": 294,
   "metadata": {
    "collapsed": true
   },
   "outputs": [],
   "source": [
    "#Import Dependencies\n",
    "import pandas as pd\n",
    "import os\n",
    "import csv"
   ]
  },
  {
   "cell_type": "code",
   "execution_count": 295,
   "metadata": {},
   "outputs": [],
   "source": [
    "#Reference CSV file\n",
    "data_file = os.path.join('Resources', \"election_data_1.csv\")\n",
    "election_df = pd.read_csv(data_file)"
   ]
  },
  {
   "cell_type": "code",
   "execution_count": 296,
   "metadata": {},
   "outputs": [
    {
     "data": {
      "text/html": [
       "<div>\n",
       "<style>\n",
       "    .dataframe thead tr:only-child th {\n",
       "        text-align: right;\n",
       "    }\n",
       "\n",
       "    .dataframe thead th {\n",
       "        text-align: left;\n",
       "    }\n",
       "\n",
       "    .dataframe tbody tr th {\n",
       "        vertical-align: top;\n",
       "    }\n",
       "</style>\n",
       "<table border=\"1\" class=\"dataframe\">\n",
       "  <thead>\n",
       "    <tr style=\"text-align: right;\">\n",
       "      <th></th>\n",
       "      <th>Voter ID</th>\n",
       "      <th>County</th>\n",
       "      <th>Candidate</th>\n",
       "    </tr>\n",
       "  </thead>\n",
       "  <tbody>\n",
       "    <tr>\n",
       "      <th>0</th>\n",
       "      <td>12864552</td>\n",
       "      <td>Marsh</td>\n",
       "      <td>Khan</td>\n",
       "    </tr>\n",
       "    <tr>\n",
       "      <th>1</th>\n",
       "      <td>17444633</td>\n",
       "      <td>Marsh</td>\n",
       "      <td>Correy</td>\n",
       "    </tr>\n",
       "    <tr>\n",
       "      <th>2</th>\n",
       "      <td>19330107</td>\n",
       "      <td>Marsh</td>\n",
       "      <td>Khan</td>\n",
       "    </tr>\n",
       "    <tr>\n",
       "      <th>3</th>\n",
       "      <td>19865775</td>\n",
       "      <td>Queen</td>\n",
       "      <td>Khan</td>\n",
       "    </tr>\n",
       "    <tr>\n",
       "      <th>4</th>\n",
       "      <td>11927875</td>\n",
       "      <td>Marsh</td>\n",
       "      <td>Khan</td>\n",
       "    </tr>\n",
       "  </tbody>\n",
       "</table>\n",
       "</div>"
      ],
      "text/plain": [
       "   Voter ID County Candidate\n",
       "0  12864552  Marsh      Khan\n",
       "1  17444633  Marsh    Correy\n",
       "2  19330107  Marsh      Khan\n",
       "3  19865775  Queen      Khan\n",
       "4  11927875  Marsh      Khan"
      ]
     },
     "execution_count": 296,
     "metadata": {},
     "output_type": "execute_result"
    }
   ],
   "source": [
    "#Display first five rows of data\n",
    "election_df.head()"
   ]
  },
  {
   "cell_type": "code",
   "execution_count": 297,
   "metadata": {},
   "outputs": [
    {
     "data": {
      "text/html": [
       "<div>\n",
       "<style>\n",
       "    .dataframe thead tr:only-child th {\n",
       "        text-align: right;\n",
       "    }\n",
       "\n",
       "    .dataframe thead th {\n",
       "        text-align: left;\n",
       "    }\n",
       "\n",
       "    .dataframe tbody tr th {\n",
       "        vertical-align: top;\n",
       "    }\n",
       "</style>\n",
       "<table border=\"1\" class=\"dataframe\">\n",
       "  <thead>\n",
       "    <tr style=\"text-align: right;\">\n",
       "      <th></th>\n",
       "      <th>Total Votes</th>\n",
       "    </tr>\n",
       "  </thead>\n",
       "  <tbody>\n",
       "    <tr>\n",
       "      <th>Khan</th>\n",
       "      <td>661583</td>\n",
       "    </tr>\n",
       "    <tr>\n",
       "      <th>Correy</th>\n",
       "      <td>209046</td>\n",
       "    </tr>\n",
       "    <tr>\n",
       "      <th>Li</th>\n",
       "      <td>146360</td>\n",
       "    </tr>\n",
       "    <tr>\n",
       "      <th>O'Tooley</th>\n",
       "      <td>31586</td>\n",
       "    </tr>\n",
       "  </tbody>\n",
       "</table>\n",
       "</div>"
      ],
      "text/plain": [
       "          Total Votes\n",
       "Khan           661583\n",
       "Correy         209046\n",
       "Li             146360\n",
       "O'Tooley        31586"
      ]
     },
     "execution_count": 297,
     "metadata": {},
     "output_type": "execute_result"
    }
   ],
   "source": [
    "#Set up new dataframe with variables of note\n",
    "votes_per = pd.DataFrame(election_df[\"Candidate\"].value_counts())\n",
    "votes_per\n",
    "votes_df = votes_per.rename(columns = {\"Candidate\": \"Total Votes\"})\n",
    "votes_df"
   ]
  },
  {
   "cell_type": "code",
   "execution_count": 298,
   "metadata": {},
   "outputs": [
    {
     "data": {
      "text/plain": [
       "661583"
      ]
     },
     "execution_count": 298,
     "metadata": {},
     "output_type": "execute_result"
    }
   ],
   "source": [
    "#Count total votes for candidate Khan\n",
    "khan_votes = votes_df.loc[\"Khan\", \"Total Votes\"]\n",
    "khan_votes"
   ]
  },
  {
   "cell_type": "code",
   "execution_count": 299,
   "metadata": {},
   "outputs": [
    {
     "data": {
      "text/plain": [
       "209046"
      ]
     },
     "execution_count": 299,
     "metadata": {},
     "output_type": "execute_result"
    }
   ],
   "source": [
    "#Count total votes for candidate Correy\n",
    "correy_votes = votes_df.loc[\"Correy\", \"Total Votes\"]\n",
    "correy_votes"
   ]
  },
  {
   "cell_type": "code",
   "execution_count": 300,
   "metadata": {},
   "outputs": [
    {
     "data": {
      "text/plain": [
       "146360"
      ]
     },
     "execution_count": 300,
     "metadata": {},
     "output_type": "execute_result"
    }
   ],
   "source": [
    "#Count total votes for candidate Li\n",
    "li_votes = votes_df.loc[\"Li\", \"Total Votes\"]\n",
    "li_votes"
   ]
  },
  {
   "cell_type": "code",
   "execution_count": 301,
   "metadata": {},
   "outputs": [
    {
     "data": {
      "text/plain": [
       "31586"
      ]
     },
     "execution_count": 301,
     "metadata": {},
     "output_type": "execute_result"
    }
   ],
   "source": [
    "#Count total votes for candidate O'Tooley\n",
    "otooley_votes = votes_df.loc[\"O'Tooley\", \"Total Votes\"]\n",
    "otooley_votes"
   ]
  },
  {
   "cell_type": "code",
   "execution_count": 302,
   "metadata": {},
   "outputs": [
    {
     "data": {
      "text/plain": [
       "1048575"
      ]
     },
     "execution_count": 302,
     "metadata": {},
     "output_type": "execute_result"
    }
   ],
   "source": [
    "#Count total votes in data set\n",
    "total_votes = votes_df[\"Total Votes\"].sum()\n",
    "total_votes"
   ]
  },
  {
   "cell_type": "code",
   "execution_count": 303,
   "metadata": {},
   "outputs": [
    {
     "data": {
      "text/plain": [
       "Khan        63.093532\n",
       "Correy      19.936199\n",
       "Li          13.957991\n",
       "O'Tooley     3.012279\n",
       "Name: Candidate, dtype: float64"
      ]
     },
     "execution_count": 303,
     "metadata": {},
     "output_type": "execute_result"
    }
   ],
   "source": [
    "#Calculate percentage of votes per candidates\n",
    "votes_percentage = (candidate_votes/total_votes)*100\n",
    "votes_percentage"
   ]
  },
  {
   "cell_type": "code",
   "execution_count": 304,
   "metadata": {},
   "outputs": [
    {
     "data": {
      "text/html": [
       "<div>\n",
       "<style>\n",
       "    .dataframe thead tr:only-child th {\n",
       "        text-align: right;\n",
       "    }\n",
       "\n",
       "    .dataframe thead th {\n",
       "        text-align: left;\n",
       "    }\n",
       "\n",
       "    .dataframe tbody tr th {\n",
       "        vertical-align: top;\n",
       "    }\n",
       "</style>\n",
       "<table border=\"1\" class=\"dataframe\">\n",
       "  <thead>\n",
       "    <tr style=\"text-align: right;\">\n",
       "      <th></th>\n",
       "      <th>Total Votes</th>\n",
       "      <th>Percentage Votes</th>\n",
       "    </tr>\n",
       "  </thead>\n",
       "  <tbody>\n",
       "    <tr>\n",
       "      <th>Khan</th>\n",
       "      <td>661583</td>\n",
       "      <td>63.093532</td>\n",
       "    </tr>\n",
       "    <tr>\n",
       "      <th>Correy</th>\n",
       "      <td>209046</td>\n",
       "      <td>19.936199</td>\n",
       "    </tr>\n",
       "    <tr>\n",
       "      <th>Li</th>\n",
       "      <td>146360</td>\n",
       "      <td>13.957991</td>\n",
       "    </tr>\n",
       "    <tr>\n",
       "      <th>O'Tooley</th>\n",
       "      <td>31586</td>\n",
       "      <td>3.012279</td>\n",
       "    </tr>\n",
       "  </tbody>\n",
       "</table>\n",
       "</div>"
      ],
      "text/plain": [
       "          Total Votes  Percentage Votes\n",
       "Khan           661583         63.093532\n",
       "Correy         209046         19.936199\n",
       "Li             146360         13.957991\n",
       "O'Tooley        31586          3.012279"
      ]
     },
     "execution_count": 304,
     "metadata": {},
     "output_type": "execute_result"
    }
   ],
   "source": [
    "#Add vote percentages to existing dataframe\n",
    "votes_df[\"Percentage Votes\"] = votes_percentage\n",
    "votes_df"
   ]
  },
  {
   "cell_type": "code",
   "execution_count": 305,
   "metadata": {},
   "outputs": [
    {
     "data": {
      "text/plain": [
       "63.0"
      ]
     },
     "execution_count": 305,
     "metadata": {},
     "output_type": "execute_result"
    }
   ],
   "source": [
    "#Determine percentage of votes for candidate Khan\n",
    "khan_percent = votes_df.loc[\"Khan\", \"Percentage Votes\"].round()\n",
    "khan_percent"
   ]
  },
  {
   "cell_type": "code",
   "execution_count": 306,
   "metadata": {},
   "outputs": [
    {
     "data": {
      "text/plain": [
       "20.0"
      ]
     },
     "execution_count": 306,
     "metadata": {},
     "output_type": "execute_result"
    }
   ],
   "source": [
    "#Determine percentage of votes for candidate Correy\n",
    "correy_percent = votes_df.loc[\"Correy\", \"Percentage Votes\"].round()\n",
    "correy_percent"
   ]
  },
  {
   "cell_type": "code",
   "execution_count": 307,
   "metadata": {},
   "outputs": [
    {
     "data": {
      "text/plain": [
       "14.0"
      ]
     },
     "execution_count": 307,
     "metadata": {},
     "output_type": "execute_result"
    }
   ],
   "source": [
    "#Determine percentage of votes for candidate Li\n",
    "li_percent = votes_df.loc[\"Li\", \"Percentage Votes\"].round()\n",
    "li_percent"
   ]
  },
  {
   "cell_type": "code",
   "execution_count": 308,
   "metadata": {},
   "outputs": [
    {
     "data": {
      "text/plain": [
       "3.0"
      ]
     },
     "execution_count": 308,
     "metadata": {},
     "output_type": "execute_result"
    }
   ],
   "source": [
    "#Determine percentage of votes for candidate O'Tooley\n",
    "otooley_percent = votes_df.loc[\"O'Tooley\", \"Percentage Votes\"].round()\n",
    "otooley_percent"
   ]
  },
  {
   "cell_type": "code",
   "execution_count": 309,
   "metadata": {},
   "outputs": [
    {
     "data": {
      "text/plain": [
       "661583"
      ]
     },
     "execution_count": 309,
     "metadata": {},
     "output_type": "execute_result"
    }
   ],
   "source": [
    "#Determine winner of election by max number of votes\n",
    "winner = votes_df[\"Total Votes\"].max()\n",
    "winner"
   ]
  },
  {
   "cell_type": "code",
   "execution_count": 310,
   "metadata": {},
   "outputs": [
    {
     "name": "stdout",
     "output_type": "stream",
     "text": [
      "Election Results\n",
      "--------------------\n",
      "Total Votes: 1048575\n",
      "--------------------\n",
      "Khan: 63.0% (661583)\n",
      "Correy: 20.0% (209046)\n",
      "Li: 14.0% (146360)\n",
      "O'Tooley: 3.0% (31586)\n",
      "--------------------\n",
      "Winner: Khan\n",
      "--------------------\n"
     ]
    }
   ],
   "source": [
    "#Print results\n",
    "print(\"Election Results\")\n",
    "print(\"--------------------\")\n",
    "print(\"Total Votes: \" + str(total_votes))\n",
    "print(\"--------------------\")\n",
    "print(\"Khan: \" + str(khan_percent) + \"% (\" + str(khan_votes) + \")\")\n",
    "print(\"Correy: \" + str(correy_percent) + \"% (\" + str(correy_votes) + \")\")\n",
    "print(\"Li: \" + str(li_percent) + \"% (\" + str(li_votes) + \")\")\n",
    "print(\"O'Tooley: \" + str(otooley_percent) + \"% (\" + str(otooley_votes) + \")\")\n",
    "print(\"--------------------\")\n",
    "print(\"Winner: Khan\")\n",
    "print(\"--------------------\")"
   ]
  },
  {
   "cell_type": "code",
   "execution_count": 311,
   "metadata": {
    "collapsed": true
   },
   "outputs": [],
   "source": [
    "#Set output file destination\n",
    "output_df = os.path.join('Resources', 'Election_Results_1' + '.txt')"
   ]
  },
  {
   "cell_type": "code",
   "execution_count": 312,
   "metadata": {},
   "outputs": [],
   "source": [
    "#Export txt file of results\n",
    "with open(output_df, 'w') as writefile:\n",
    "    writefile.writelines(\"Election Results\" + '\\n')\n",
    "    writefile.writelines(\"--------------------\" + '\\n')\n",
    "    writefile.writelines(\"Total Votes: \" + str(total_votes) + '\\n')\n",
    "    writefile.writelines(\"--------------------\" + '\\n')\n",
    "    writefile.writelines(\"Khan: \" + str(khan_percent) + \"% (\" + str(khan_votes) + \")\" + '\\n')\n",
    "    writefile.writelines(\"Correy: \" + str(correy_percent) + \"% (\" + str(correy_votes) + \")\" + '\\n')\n",
    "    writefile.writelines(\"Li: \" + str(li_percent) + \"% (\" + str(li_votes) + \")\" + '\\n')\n",
    "    writefile.writelines(\"O'Tooley: \" + str(otooley_percent) + \"% (\" + str(otooley_votes) + \")\" + '\\n')\n",
    "    writefile.writelines(\"--------------------\" + '\\n')\n",
    "    writefile.writelines(\"Winner: Khan\" + '\\n')\n",
    "    writefile.writelines(\"--------------------\" + '\\n')"
   ]
  }
 ],
 "metadata": {
  "kernelspec": {
   "display_name": "Python 3",
   "language": "python",
   "name": "python3"
  },
  "language_info": {
   "codemirror_mode": {
    "name": "ipython",
    "version": 3
   },
   "file_extension": ".py",
   "mimetype": "text/x-python",
   "name": "python",
   "nbconvert_exporter": "python",
   "pygments_lexer": "ipython3",
   "version": "3.6.3"
  }
 },
 "nbformat": 4,
 "nbformat_minor": 2
}
