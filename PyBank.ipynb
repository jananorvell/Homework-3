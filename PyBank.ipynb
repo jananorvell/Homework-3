{
 "cells": [
  {
   "cell_type": "code",
   "execution_count": 442,
   "metadata": {
    "collapsed": true
   },
   "outputs": [],
   "source": [
    "#Inport Dependencies\n",
    "import pandas as pd\n",
    "import os\n",
    "import csv"
   ]
  },
  {
   "cell_type": "code",
   "execution_count": 443,
   "metadata": {},
   "outputs": [],
   "source": [
    "#Reference CSV file\n",
    "budget_csv = os.path.join('Resources', 'budget_data_1.csv')\n",
    "budget_df = pd.read_csv(budget_csv)\n",
    "#Reference CSV file for second data file\n",
    "#budget_csv = os.path.join('Resources', 'budget_data_2.csv')"
   ]
  },
  {
   "cell_type": "code",
   "execution_count": 444,
   "metadata": {},
   "outputs": [
    {
     "data": {
      "text/html": [
       "<div>\n",
       "<style>\n",
       "    .dataframe thead tr:only-child th {\n",
       "        text-align: right;\n",
       "    }\n",
       "\n",
       "    .dataframe thead th {\n",
       "        text-align: left;\n",
       "    }\n",
       "\n",
       "    .dataframe tbody tr th {\n",
       "        vertical-align: top;\n",
       "    }\n",
       "</style>\n",
       "<table border=\"1\" class=\"dataframe\">\n",
       "  <thead>\n",
       "    <tr style=\"text-align: right;\">\n",
       "      <th></th>\n",
       "      <th>Date</th>\n",
       "      <th>Revenue</th>\n",
       "    </tr>\n",
       "  </thead>\n",
       "  <tbody>\n",
       "    <tr>\n",
       "      <th>0</th>\n",
       "      <td>12-Oct</td>\n",
       "      <td>1154293</td>\n",
       "    </tr>\n",
       "    <tr>\n",
       "      <th>1</th>\n",
       "      <td>12-Nov</td>\n",
       "      <td>885773</td>\n",
       "    </tr>\n",
       "    <tr>\n",
       "      <th>2</th>\n",
       "      <td>12-Dec</td>\n",
       "      <td>-448704</td>\n",
       "    </tr>\n",
       "    <tr>\n",
       "      <th>3</th>\n",
       "      <td>13-Jan</td>\n",
       "      <td>563679</td>\n",
       "    </tr>\n",
       "    <tr>\n",
       "      <th>4</th>\n",
       "      <td>13-Feb</td>\n",
       "      <td>555394</td>\n",
       "    </tr>\n",
       "  </tbody>\n",
       "</table>\n",
       "</div>"
      ],
      "text/plain": [
       "     Date  Revenue\n",
       "0  12-Oct  1154293\n",
       "1  12-Nov   885773\n",
       "2  12-Dec  -448704\n",
       "3  13-Jan   563679\n",
       "4  13-Feb   555394"
      ]
     },
     "execution_count": 444,
     "metadata": {},
     "output_type": "execute_result"
    }
   ],
   "source": [
    "#Display first five rows of data\n",
    "budget_df.head()"
   ]
  },
  {
   "cell_type": "code",
   "execution_count": 445,
   "metadata": {},
   "outputs": [
    {
     "data": {
      "text/plain": [
       "['12-Oct',\n",
       " '12-Nov',\n",
       " '12-Dec',\n",
       " '13-Jan',\n",
       " '13-Feb',\n",
       " '13-Mar',\n",
       " '13-Apr',\n",
       " '13-May',\n",
       " '13-Jun',\n",
       " '13-Jul',\n",
       " '13-Aug',\n",
       " '13-Sep',\n",
       " '13-Oct',\n",
       " '13-Nov',\n",
       " '13-Dec',\n",
       " '14-Jan',\n",
       " '14-Feb',\n",
       " '14-Mar',\n",
       " '14-Apr',\n",
       " '14-May',\n",
       " '14-Jun',\n",
       " '14-Jul',\n",
       " '14-Aug',\n",
       " '14-Sep',\n",
       " '14-Oct',\n",
       " '14-Nov',\n",
       " '14-Dec',\n",
       " '15-Jan',\n",
       " '15-Feb',\n",
       " '15-Mar',\n",
       " '15-Apr',\n",
       " '15-May',\n",
       " '15-Jun',\n",
       " '15-Jul',\n",
       " '15-Aug',\n",
       " '15-Sep',\n",
       " '15-Oct',\n",
       " '15-Nov',\n",
       " '15-Dec',\n",
       " '16-Jan',\n",
       " '16-Feb']"
      ]
     },
     "execution_count": 445,
     "metadata": {},
     "output_type": "execute_result"
    }
   ],
   "source": [
    "#Assign date variable as list\n",
    "date = list(budget_df[\"Date\"])\n",
    "date"
   ]
  },
  {
   "cell_type": "code",
   "execution_count": 446,
   "metadata": {},
   "outputs": [
    {
     "data": {
      "text/plain": [
       "[1154293,\n",
       " 885773,\n",
       " -448704,\n",
       " 563679,\n",
       " 555394,\n",
       " 631974,\n",
       " 957395,\n",
       " 1104047,\n",
       " 693464,\n",
       " 454932,\n",
       " 727272,\n",
       " 125016,\n",
       " 339251,\n",
       " 78523,\n",
       " 977084,\n",
       " 1158718,\n",
       " 332681,\n",
       " -341227,\n",
       " 173826,\n",
       " 742611,\n",
       " 1189806,\n",
       " 607363,\n",
       " -1172384,\n",
       " 587993,\n",
       " 295198,\n",
       " -300390,\n",
       " 468995,\n",
       " 698452,\n",
       " 967828,\n",
       " -454873,\n",
       " 375723,\n",
       " 1140526,\n",
       " 83836,\n",
       " 413189,\n",
       " 551363,\n",
       " 1195111,\n",
       " 657081,\n",
       " 66659,\n",
       " 803301,\n",
       " -953301,\n",
       " 883934]"
      ]
     },
     "execution_count": 446,
     "metadata": {},
     "output_type": "execute_result"
    }
   ],
   "source": [
    "#Assign revenue variable as list\n",
    "revenue = list(budget_df[\"Revenue\"])\n",
    "revenue"
   ]
  },
  {
   "cell_type": "code",
   "execution_count": 447,
   "metadata": {},
   "outputs": [
    {
     "data": {
      "text/plain": [
       "41"
      ]
     },
     "execution_count": 447,
     "metadata": {},
     "output_type": "execute_result"
    }
   ],
   "source": [
    "#Measure months in dataset\n",
    "months = len(budget_df[\"Date\"].unique())\n",
    "months"
   ]
  },
  {
   "cell_type": "code",
   "execution_count": 448,
   "metadata": {},
   "outputs": [
    {
     "data": {
      "text/plain": [
       "18971412"
      ]
     },
     "execution_count": 448,
     "metadata": {},
     "output_type": "execute_result"
    }
   ],
   "source": [
    "#Calculate revenue over entire period\n",
    "total_revenue = int(budget_df[\"Revenue\"].sum())\n",
    "total_revenue"
   ]
  },
  {
   "cell_type": "code",
   "execution_count": 449,
   "metadata": {},
   "outputs": [
    {
     "data": {
      "text/plain": [
       "462717"
      ]
     },
     "execution_count": 449,
     "metadata": {},
     "output_type": "execute_result"
    }
   ],
   "source": [
    "#Determine average change in revenues\n",
    "average = int(budget_df[\"Revenue\"].mean())\n",
    "average"
   ]
  },
  {
   "cell_type": "code",
   "execution_count": 450,
   "metadata": {},
   "outputs": [
    {
     "data": {
      "text/plain": [
       "1195111"
      ]
     },
     "execution_count": 450,
     "metadata": {},
     "output_type": "execute_result"
    }
   ],
   "source": [
    "#Determine greatest revenue increase\n",
    "maximum = budget_df[\"Revenue\"].max()\n",
    "maximum"
   ]
  },
  {
   "cell_type": "code",
   "execution_count": 451,
   "metadata": {},
   "outputs": [
    {
     "data": {
      "text/plain": [
       "-1172384"
      ]
     },
     "execution_count": 451,
     "metadata": {},
     "output_type": "execute_result"
    }
   ],
   "source": [
    "#Determine greatest revenue decrease\n",
    "minimum = budget_df[\"Revenue\"].min()\n",
    "minimum"
   ]
  },
  {
   "cell_type": "code",
   "execution_count": 452,
   "metadata": {},
   "outputs": [
    {
     "data": {
      "text/plain": [
       "'15-Sep'"
      ]
     },
     "execution_count": 452,
     "metadata": {},
     "output_type": "execute_result"
    }
   ],
   "source": [
    "#Determine date of greatest revenue increase\n",
    "date_max = date[revenue.index(maximum)]\n",
    "date_max"
   ]
  },
  {
   "cell_type": "code",
   "execution_count": 453,
   "metadata": {},
   "outputs": [
    {
     "data": {
      "text/plain": [
       "'14-Aug'"
      ]
     },
     "execution_count": 453,
     "metadata": {},
     "output_type": "execute_result"
    }
   ],
   "source": [
    "#Determine date of greatest revenue decrease\n",
    "date_min = date[revenue.index(minimum)]\n",
    "date_min"
   ]
  },
  {
   "cell_type": "code",
   "execution_count": 454,
   "metadata": {},
   "outputs": [
    {
     "name": "stdout",
     "output_type": "stream",
     "text": [
      "Financial Analysis\n",
      "-------------------------------\n",
      "Total Months: 41\n",
      "Total Revenue: $18971412\n",
      "Average Revenue Change: $462717\n",
      "Greatest Increase in Revenue: 15-Sep $1195111\n",
      "Greatest Decrease in Revenue: 14-Aug $-1172384\n"
     ]
    }
   ],
   "source": [
    "#Print results\n",
    "print(\"Financial Analysis\")\n",
    "print(\"-------------------------------\")\n",
    "print(\"Total Months: \" + str(months))\n",
    "print(\"Total Revenue: $\" + str(total_revenue))\n",
    "print(\"Average Revenue Change: $\" + str(average))\n",
    "print(\"Greatest Increase in Revenue: \" + str(date_max) + \" $\" + str(maximum))\n",
    "print(\"Greatest Decrease in Revenue: \"+ str(date_min) + \" $\" + str(minimum))"
   ]
  },
  {
   "cell_type": "code",
   "execution_count": 457,
   "metadata": {
    "collapsed": true
   },
   "outputs": [],
   "source": [
    "#Set output file destination\n",
    "output_df = os.path.join('Resources','Financial_Analysis_1' + '.txt')\n",
    "#Set output file destination for second data set\n",
    "#output_df = os.path.join('Resources','Financial_Analysis_2' + '.txt')"
   ]
  },
  {
   "cell_type": "code",
   "execution_count": 458,
   "metadata": {
    "collapsed": true
   },
   "outputs": [],
   "source": [
    "#Export txt file of results\n",
    "with open(output_df, 'w') as writefile:\n",
    "    writefile.writelines('Financial Analysis' + '\\n')\n",
    "    writefile.writelines('-------------------------------' + '\\n')\n",
    "    writefile.writelines('Total Months: ' + str(months) + '\\n')\n",
    "    writefile.writelines('Total Revenue: $' + str(total_revenue) + '\\n')\n",
    "    writefile.writelines('Average Revenue Change: $' + str(average) + '\\n')\n",
    "    writefile.writelines('Greatest Increase in Revenue: ' + str (date_max) + \" $\" + str(maximum) + '\\n')\n",
    "    writefile.writelines('Greatest Decrease in Revenue: ' + str(date_min) + \" $\" + str(minimum) + '\\n')"
   ]
  },
  {
   "cell_type": "code",
   "execution_count": null,
   "metadata": {
    "collapsed": true
   },
   "outputs": [],
   "source": []
  }
 ],
 "metadata": {
  "kernelspec": {
   "display_name": "Python 3",
   "language": "python",
   "name": "python3"
  },
  "language_info": {
   "codemirror_mode": {
    "name": "ipython",
    "version": 3
   },
   "file_extension": ".py",
   "mimetype": "text/x-python",
   "name": "python",
   "nbconvert_exporter": "python",
   "pygments_lexer": "ipython3",
   "version": "3.6.3"
  }
 },
 "nbformat": 4,
 "nbformat_minor": 2
}
